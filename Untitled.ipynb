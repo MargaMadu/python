{
  "nbformat": 4,
  "nbformat_minor": 0,
  "metadata": {
    "colab": {
      "provenance": [],
      "toc_visible": true,
      "authorship_tag": "ABX9TyPE02zqVt9hNgqFLQYNP9A6",
      "include_colab_link": true
    },
    "kernelspec": {
      "name": "python3",
      "display_name": "Python 3"
    },
    "language_info": {
      "name": "python"
    }
  },
  "cells": [
    {
      "cell_type": "markdown",
      "metadata": {
        "id": "view-in-github",
        "colab_type": "text"
      },
      "source": [
        "<a href=\"https://colab.research.google.com/github/MargaMadu/python/blob/main/Untitled.ipynb\" target=\"_parent\"><img src=\"https://colab.research.google.com/assets/colab-badge.svg\" alt=\"Open In Colab\"/></a>"
      ]
    },
    {
      "cell_type": "code",
      "execution_count": 2,
      "metadata": {
        "colab": {
          "base_uri": "https://localhost:8080/"
        },
        "id": "iuJlwVRQ1XNR",
        "outputId": "f2a5e829-3fac-4a69-bcb5-1c42e2b15a32"
      },
      "outputs": [
        {
          "output_type": "stream",
          "name": "stdout",
          "text": [
            "['Granada', 'Jaén', 'Córdoba', 'Madrid', 'Barcelona', 'Valladolid', 'Málaga', 'Ciudad Real', 'Santander', 'Oviedo']\n"
          ]
        }
      ],
      "source": [
        "import this\n",
        "ciudades =[\"Granada\", \"Jaén\", \"Córdoba\" , \"Madrid\" , \"Barcelona\" , \"Valladolid\" , \"Málaga\" , \"Ciudad Real\" , \"Santander\" , \"Oviedo\"]\n",
        "\n",
        "artistas = [\"Julio Iglesias\" , \"Rafael\" , \"Rocio Jurado\" , \"David Bisval\", \"Chenoa\" ,\"Tamara\" , \"Alejandro Sanz\" , \"Marc Anthony\" , \"Alejandro Fernandez\" , \"Luis Miguel\"]\n",
        "\n",
        "dicionario = {}\n",
        "print(ciudades)\n",
        "\n"
      ]
    },
    {
      "cell_type": "code",
      "source": [
        "def rotar():\n",
        "    l = [\"Málaga\", \"Córdoba\", \"Cádiz\", \"Huelva\", \"Jaén\" , \"Almería\" ]\n",
        "    r = l.pop(0)\n",
        "    l.append(r)\n",
        "    print(l)\n",
        "\n",
        "rotar()\n",
        "\n"
      ],
      "metadata": {
        "colab": {
          "base_uri": "https://localhost:8080/"
        },
        "id": "1i9mZT65UlVv",
        "outputId": "123e5822-4bf9-4211-b27e-b28368d639a1"
      },
      "execution_count": 3,
      "outputs": [
        {
          "output_type": "stream",
          "name": "stdout",
          "text": [
            "['Córdoba', 'Cádiz', 'Huelva', 'Jaén', 'Almería', 'Málaga']\n"
          ]
        }
      ]
    },
    {
      "cell_type": "code",
      "source": [
        "for i in range(len(artistas)):\n",
        "  dicionario[artistas[i]]= ciudades[i]\n",
        "print(\"\\n\".join (dicionario))"
      ],
      "metadata": {
        "colab": {
          "base_uri": "https://localhost:8080/"
        },
        "id": "K4L3J4uB7a_-",
        "outputId": "ac2cebf0-cf03-46f9-bbde-e69ea0cded90"
      },
      "execution_count": 5,
      "outputs": [
        {
          "output_type": "stream",
          "name": "stdout",
          "text": [
            "Julio Iglesias\n",
            "Rafael\n",
            "Rocio Jurado\n",
            "David Bisval\n",
            "Chenoa\n",
            "Tamara\n",
            "Alejandro Sanz\n",
            "Marc Anthony\n",
            "Alejandro Fernandez\n",
            "Luis Miguel\n"
          ]
        }
      ]
    },
    {
      "cell_type": "code",
      "source": [
        "lista=[]\n",
        "for x in range(1, 11):\n",
        "    lista = x\n",
        "\n",
        "    print(lista)\n",
        "lista.reverse()\n",
        "print(lista)"
      ],
      "metadata": {
        "colab": {
          "base_uri": "https://localhost:8080/",
          "height": 401
        },
        "id": "hhkxdDa09Y3D",
        "outputId": "45961b9e-ff1e-44d0-d11a-7346c6f59b73"
      },
      "execution_count": 6,
      "outputs": [
        {
          "output_type": "stream",
          "name": "stdout",
          "text": [
            "1\n",
            "2\n",
            "3\n",
            "4\n",
            "5\n",
            "6\n",
            "7\n",
            "8\n",
            "9\n",
            "10\n"
          ]
        },
        {
          "output_type": "error",
          "ename": "AttributeError",
          "evalue": "'int' object has no attribute 'reverse'",
          "traceback": [
            "\u001b[0;31m---------------------------------------------------------------------------\u001b[0m",
            "\u001b[0;31mAttributeError\u001b[0m                            Traceback (most recent call last)",
            "\u001b[0;32m<ipython-input-6-87116dcf1632>\u001b[0m in \u001b[0;36m<cell line: 6>\u001b[0;34m()\u001b[0m\n\u001b[1;32m      4\u001b[0m \u001b[0;34m\u001b[0m\u001b[0m\n\u001b[1;32m      5\u001b[0m     \u001b[0mprint\u001b[0m\u001b[0;34m(\u001b[0m\u001b[0mlista\u001b[0m\u001b[0;34m)\u001b[0m\u001b[0;34m\u001b[0m\u001b[0;34m\u001b[0m\u001b[0m\n\u001b[0;32m----> 6\u001b[0;31m \u001b[0mlista\u001b[0m\u001b[0;34m.\u001b[0m\u001b[0mreverse\u001b[0m\u001b[0;34m(\u001b[0m\u001b[0;34m)\u001b[0m\u001b[0;34m\u001b[0m\u001b[0;34m\u001b[0m\u001b[0m\n\u001b[0m\u001b[1;32m      7\u001b[0m \u001b[0mprint\u001b[0m\u001b[0;34m(\u001b[0m\u001b[0mlista\u001b[0m\u001b[0;34m)\u001b[0m\u001b[0;34m\u001b[0m\u001b[0;34m\u001b[0m\u001b[0m\n",
            "\u001b[0;31mAttributeError\u001b[0m: 'int' object has no attribute 'reverse'"
          ]
        }
      ]
    },
    {
      "cell_type": "code",
      "source": [],
      "metadata": {
        "id": "Wl8KkcJbGAtn"
      },
      "execution_count": null,
      "outputs": []
    },
    {
      "cell_type": "markdown",
      "source": [
        "#Listas por comprensión anidadas\n"
      ],
      "metadata": {
        "id": "06uodTIDsPQd"
      }
    },
    {
      "cell_type": "code",
      "source": [
        "uno =[1,2,3]\n",
        "dos = [3,4,5]\n",
        "[(x, y) for x in uno for y in dos if x != y]\n"
      ],
      "metadata": {
        "colab": {
          "base_uri": "https://localhost:8080/"
        },
        "id": "krhgwZC6rK6G",
        "outputId": "4f635de3-e0df-44e1-a9cf-6eaab95c669a"
      },
      "execution_count": null,
      "outputs": [
        {
          "output_type": "execute_result",
          "data": {
            "text/plain": [
              "[(1, 3), (1, 4), (1, 5), (2, 3), (2, 4), (2, 5), (3, 4), (3, 5)]"
            ]
          },
          "metadata": {},
          "execution_count": 4
        }
      ]
    },
    {
      "cell_type": "markdown",
      "source": [
        "**crear lista con los datos que indica el usuario con append**"
      ],
      "metadata": {
        "id": "IateQiSg-yFw"
      }
    },
    {
      "cell_type": "code",
      "source": [
        "palabra = int(input(\"Dígame cuántas palabras tiene la lista:  \"))\n",
        "lista=[]\n",
        "for u in range(palabra):\n",
        "   palabralista = input(f\"Indique la palabra {u + 1} de la lista: \")\n",
        "   lista.append(palabralista)\n",
        "\n",
        "print(lista)\n"
      ],
      "metadata": {
        "colab": {
          "base_uri": "https://localhost:8080/"
        },
        "id": "3AcnzLYa19rD",
        "outputId": "9b04c688-8045-49c5-bbf6-b1df2a5f6569"
      },
      "execution_count": null,
      "outputs": [
        {
          "output_type": "stream",
          "name": "stdout",
          "text": [
            "indique un numero  3\n",
            "Indique la palabra 1 de la lista: lola\n",
            "Indique la palabra 2 de la lista: pepe\n",
            "Indique la palabra 3 de la lista: juan\n",
            "['lola', 'pepe', 'juan']\n"
          ]
        }
      ]
    },
    {
      "cell_type": "markdown",
      "source": [
        "#crear lista con los datos del usuario usando += para añadir nombres a la lista, si no se ponen los [  ] crea cada palabara como dato de la lista."
      ],
      "metadata": {
        "id": "5MX9V_E8_RnB"
      }
    },
    {
      "cell_type": "code",
      "source": [
        "palabras = int(input(\"Dígame cuántas palabras tiene la lista:  \"))\n",
        "listas=[]\n",
        "for u in range(palabras):\n",
        "   palabralista = input(f\"Indique la palabra {u + 1} de la lista: \")\n",
        "   listas += [palabralista]\n",
        "\n",
        "print(listas)\n"
      ],
      "metadata": {
        "colab": {
          "base_uri": "https://localhost:8080/"
        },
        "id": "CbocSdqa-9Ml",
        "outputId": "30e189b3-7279-4106-b2f7-099da4700f0a"
      },
      "execution_count": null,
      "outputs": [
        {
          "output_type": "stream",
          "name": "stdout",
          "text": [
            "Dígame cuántas palabras tiene la lista:  2\n",
            "Indique la palabra 1 de la lista: hola\n",
            "Indique la palabra 2 de la lista: noche\n",
            "['hola', 'noche']\n"
          ]
        }
      ]
    },
    {
      "cell_type": "markdown",
      "source": [
        "**Escriba un programa que permita crear una lista de palabras y que, a continuación, pida una palabra y diga cuántas veces aparece esa palabra en la lista**"
      ],
      "metadata": {
        "id": "lz_c1ZmPKdo-"
      }
    },
    {
      "cell_type": "code",
      "source": [
        "cantidadpalabras = int(input(\"Dígame cuántas palabras tiene la lista:  \"))\n",
        "m = []\n",
        "if cantidadpalabras <=0 :\n",
        "  print(\"Inposible crea lista con 0  \")\n",
        "else:\n",
        "  for u in range(cantidadpalabras):\n",
        "     palabralista= input(f\"Indique la palabra {u+1} de la lista :\")\n",
        "     m +=[palabralista]\n",
        "\n",
        "  print(m)\n",
        "\n",
        "  palabrabuscar= input(\"qué palabra desea buscar: \")\n",
        "  if palabrabuscar.strip()!= \"\":\n",
        "      if palabrabuscar in m:\n",
        "        print(m.count(palabrabuscar))\n",
        "      else:\n",
        "         print(f\"no existe la {palabrabuscar}\")\n",
        "  else:\n",
        "     print (\"No es posible buscar nada \")\n"
      ],
      "metadata": {
        "colab": {
          "base_uri": "https://localhost:8080/"
        },
        "id": "aaK2ULaH_0u0",
        "outputId": "73de5dd1-62fa-4fa0-baf8-7098b0aac445"
      },
      "execution_count": null,
      "outputs": [
        {
          "output_type": "stream",
          "name": "stdout",
          "text": [
            "Dígame cuántas palabras tiene la lista:  3\n",
            "Indique la palabra 1 de la lista :gato\n",
            "Indique la palabra 2 de la lista :pato\n",
            "Indique la palabra 3 de la lista :pata\n",
            "['gato', 'pato', 'pata']\n",
            "qué palabra desea buscar: pollo\n",
            "no existe la pollo\n"
          ]
        }
      ]
    },
    {
      "cell_type": "markdown",
      "source": [
        "**hecho en la web: Escriba un programa que permita crear una lista de palabras y que, a continuación, pida una palabra y diga cuántas veces aparece esa palabra en la lista.**"
      ],
      "metadata": {
        "id": "7k46QhsfKsJo"
      }
    },
    {
      "cell_type": "code",
      "source": [
        "def main():\n",
        "  numero = int(input(\"Dígame cuántas palabras tiene la lista: \"))\n",
        "\n",
        "  if numero < 1:\n",
        "      print(\"¡Imposible!\")\n",
        "  else:\n",
        "      lista = []\n",
        "      for i in range(numero):\n",
        "          palabra = input(f\"Dígame la palabra {i + 1}: \")\n",
        "          lista += [palabra]\n",
        "      print(f\"La lista creada es: {lista}\")\n",
        "\n",
        "      buscar = input(\"Dígame la palabra a buscar: \")\n",
        "      contador = 0\n",
        "      for i in lista:\n",
        "          if i == buscar:\n",
        "              contador += 1\n",
        "      if contador == 0:\n",
        "          print(f\"La palabra '{buscar}' no aparece en la lista.\")\n",
        "      elif contador == 1:\n",
        "          print(f\"La palabra '{buscar}' aparece una vez en la lista.\")\n",
        "      else:\n",
        "          print(f\"La palabra '{buscar}' aparece {contador} veces en la lista.\")\n",
        "\n",
        "\n",
        "if __name__ == \"__main__\":\n",
        "  main()"
      ],
      "metadata": {
        "colab": {
          "base_uri": "https://localhost:8080/"
        },
        "id": "fdL4Nv5zGXgL",
        "outputId": "e997f901-39e1-40f9-95a6-9271807c22d1"
      },
      "execution_count": null,
      "outputs": [
        {
          "output_type": "stream",
          "name": "stdout",
          "text": [
            "Dígame cuántas palabras tiene la lista: 3\n",
            "Dígame la palabra 1: pollo\n",
            "Dígame la palabra 2: pato \n",
            "Dígame la palabra 3: perro\n",
            "La lista creada es: ['pollo', 'pato ', 'perro']\n",
            "Dígame la palabra a buscar: \n",
            "La palabra '' no aparece en la lista.\n"
          ]
        }
      ]
    },
    {
      "cell_type": "markdown",
      "source": [
        "**Listas (1) - 3\n",
        "Escriba un programa que permita crear una lista de palabras y que, a continuación, pida dos palabras y sustituya la primera por la segunda en la lista.**"
      ],
      "metadata": {
        "id": "Sc3nHnkILDEJ"
      }
    },
    {
      "cell_type": "code",
      "source": [
        "p=int(input(\"cuantas palbara va a contener la lista ? \"))\n",
        "\n",
        "nueva_lista=[]\n",
        "if p >0 :\n",
        "\n",
        "     for t in range(p):\n",
        "       a= input(f\"indique {t+1} las palabaras : \")\n",
        "       if a.strip()!=\"\":\n",
        "         nueva_lista += [a]\n",
        "\n",
        "       else:\n",
        "         print(\"no ha introducido ninguna palabra \")\n",
        "else:\n",
        "  print(\"no es valida la entrada\")\n",
        "\n",
        "print(nueva_lista)\n",
        "\n",
        "cambiar=(input(\"indique palabra a sustituir en la lista ? \"))\n",
        "if cambiar.strip() !=\"\":\n",
        "   if cambiar in nueva_lista:\n",
        "\n",
        "      nueva_lista.remove(cambiar)\n",
        "\n",
        "print(nueva_lista)\n"
      ],
      "metadata": {
        "colab": {
          "base_uri": "https://localhost:8080/"
        },
        "id": "5YBLMLJQK8BL",
        "outputId": "df4133d4-616f-4cba-d98a-0ac78c529f91"
      },
      "execution_count": null,
      "outputs": [
        {
          "output_type": "stream",
          "name": "stdout",
          "text": [
            "cuantas palbara va a contener la lista ? 3\n",
            "indique 1 las palabaras : pollo\n",
            "indique 2 las palabaras : pato\n",
            "indique 3 las palabaras : gato\n",
            "['pollo', 'pato', 'gato']\n",
            "indique palabra a sustituir en la lista ? gato\n",
            "['pollo', 'pato']\n"
          ]
        }
      ]
    },
    {
      "cell_type": "markdown",
      "source": [
        "# Nueva sección"
      ],
      "metadata": {
        "id": "O5SU7155GmRi"
      }
    }
  ]
}